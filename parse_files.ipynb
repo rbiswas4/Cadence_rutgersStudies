{
 "metadata": {
  "name": "",
  "signature": "sha256:9dffcfd2e2cb039e43d82a598b0a6b54985668b4e8919e0edcb489f2816b77fd"
 },
 "nbformat": 3,
 "nbformat_minor": 0,
 "worksheets": [
  {
   "cells": [
    {
     "cell_type": "code",
     "collapsed": false,
     "input": [
      "import os\n",
      "import glob\n",
      "import numpy as np\n",
      "import pandas as pd"
     ],
     "language": "python",
     "metadata": {},
     "outputs": [],
     "prompt_number": 8
    },
    {
     "cell_type": "code",
     "collapsed": false,
     "input": [
      "os.getenv('datadir')"
     ],
     "language": "python",
     "metadata": {},
     "outputs": [
      {
       "metadata": {},
       "output_type": "pyout",
       "prompt_number": 2,
       "text": [
        "'/Users/rbiswas/data/LSST/RutgersFullSkyPixels/fullskypix/OpSim2.168_DithDDF'"
       ]
      }
     ],
     "prompt_number": 2
    },
    {
     "cell_type": "code",
     "collapsed": false,
     "input": [
      "datadir = os.getenv('datadir')"
     ],
     "language": "python",
     "metadata": {},
     "outputs": [],
     "prompt_number": 3
    },
    {
     "cell_type": "code",
     "collapsed": false,
     "input": [
      "fields = glob.glob(datadir+'/field*')"
     ],
     "language": "python",
     "metadata": {},
     "outputs": [],
     "prompt_number": 13
    },
    {
     "cell_type": "code",
     "collapsed": false,
     "input": [
      "field = fields[0]"
     ],
     "language": "python",
     "metadata": {},
     "outputs": [],
     "prompt_number": 15
    },
    {
     "cell_type": "code",
     "collapsed": false,
     "input": [
      "fieldid = int(field.split('_')[-1])"
     ],
     "language": "python",
     "metadata": {},
     "outputs": [],
     "prompt_number": 20
    },
    {
     "cell_type": "code",
     "collapsed": false,
     "input": [
      "fieldid"
     ],
     "language": "python",
     "metadata": {},
     "outputs": [
      {
       "metadata": {},
       "output_type": "pyout",
       "prompt_number": 21,
       "text": [
        "1309"
       ]
      }
     ],
     "prompt_number": 21
    },
    {
     "cell_type": "code",
     "collapsed": false,
     "input": [
      "healpixels = glob.glob(field + '/*.dat')"
     ],
     "language": "python",
     "metadata": {},
     "outputs": [],
     "prompt_number": 26
    },
    {
     "cell_type": "code",
     "collapsed": false,
     "input": [
      "df = pd.read_csv(healpixels[0], skiprows=2, delimiter=r\"\\s+\", names=['time', 'filters'])"
     ],
     "language": "python",
     "metadata": {},
     "outputs": [],
     "prompt_number": 28
    },
    {
     "cell_type": "code",
     "collapsed": false,
     "input": [
      "df"
     ],
     "language": "python",
     "metadata": {},
     "outputs": [
      {
       "html": [
        "<div style=\"max-height:1000px;max-width:1500px;overflow:auto;\">\n",
        "<table border=\"1\" class=\"dataframe\">\n",
        "  <thead>\n",
        "    <tr style=\"text-align: right;\">\n",
        "      <th></th>\n",
        "      <th>time</th>\n",
        "      <th>filters</th>\n",
        "    </tr>\n",
        "  </thead>\n",
        "  <tbody>\n",
        "    <tr>\n",
        "      <th>0</th>\n",
        "      <td>89299</td>\n",
        "      <td>6</td>\n",
        "    </tr>\n",
        "    <tr>\n",
        "      <th>1</th>\n",
        "      <td>607963</td>\n",
        "      <td>6</td>\n",
        "    </tr>\n",
        "    <tr>\n",
        "      <th>2</th>\n",
        "      <td>879799</td>\n",
        "      <td>1</td>\n",
        "    </tr>\n",
        "    <tr>\n",
        "      <th>3</th>\n",
        "      <td>1212853</td>\n",
        "      <td>5</td>\n",
        "    </tr>\n",
        "    <tr>\n",
        "      <th>4</th>\n",
        "      <td>1214435</td>\n",
        "      <td>5</td>\n",
        "    </tr>\n",
        "    <tr>\n",
        "      <th>5</th>\n",
        "      <td>1644286</td>\n",
        "      <td>5</td>\n",
        "    </tr>\n",
        "    <tr>\n",
        "      <th>6</th>\n",
        "      <td>1645914</td>\n",
        "      <td>5</td>\n",
        "    </tr>\n",
        "    <tr>\n",
        "      <th>7</th>\n",
        "      <td>1739917</td>\n",
        "      <td>6</td>\n",
        "    </tr>\n",
        "    <tr>\n",
        "      <th>8</th>\n",
        "      <td>1742349</td>\n",
        "      <td>6</td>\n",
        "    </tr>\n",
        "    <tr>\n",
        "      <th>9</th>\n",
        "      <td>1817151</td>\n",
        "      <td>6</td>\n",
        "    </tr>\n",
        "    <tr>\n",
        "      <th>10</th>\n",
        "      <td>1818007</td>\n",
        "      <td>6</td>\n",
        "    </tr>\n",
        "    <tr>\n",
        "      <th>11</th>\n",
        "      <td>1820606</td>\n",
        "      <td>6</td>\n",
        "    </tr>\n",
        "    <tr>\n",
        "      <th>12</th>\n",
        "      <td>1827937</td>\n",
        "      <td>6</td>\n",
        "    </tr>\n",
        "    <tr>\n",
        "      <th>13</th>\n",
        "      <td>2086216</td>\n",
        "      <td>5</td>\n",
        "    </tr>\n",
        "    <tr>\n",
        "      <th>14</th>\n",
        "      <td>2087218</td>\n",
        "      <td>5</td>\n",
        "    </tr>\n",
        "    <tr>\n",
        "      <th>15</th>\n",
        "      <td>2087684</td>\n",
        "      <td>5</td>\n",
        "    </tr>\n",
        "    <tr>\n",
        "      <th>16</th>\n",
        "      <td>2248873</td>\n",
        "      <td>5</td>\n",
        "    </tr>\n",
        "    <tr>\n",
        "      <th>17</th>\n",
        "      <td>2250526</td>\n",
        "      <td>5</td>\n",
        "    </tr>\n",
        "    <tr>\n",
        "      <th>18</th>\n",
        "      <td>2335275</td>\n",
        "      <td>5</td>\n",
        "    </tr>\n",
        "    <tr>\n",
        "      <th>19</th>\n",
        "      <td>2336863</td>\n",
        "      <td>5</td>\n",
        "    </tr>\n",
        "    <tr>\n",
        "      <th>20</th>\n",
        "      <td>2768159</td>\n",
        "      <td>5</td>\n",
        "    </tr>\n",
        "    <tr>\n",
        "      <th>21</th>\n",
        "      <td>5014827</td>\n",
        "      <td>6</td>\n",
        "    </tr>\n",
        "    <tr>\n",
        "      <th>22</th>\n",
        "      <td>5015906</td>\n",
        "      <td>6</td>\n",
        "    </tr>\n",
        "    <tr>\n",
        "      <th>23</th>\n",
        "      <td>5016214</td>\n",
        "      <td>6</td>\n",
        "    </tr>\n",
        "    <tr>\n",
        "      <th>24</th>\n",
        "      <td>5017292</td>\n",
        "      <td>6</td>\n",
        "    </tr>\n",
        "    <tr>\n",
        "      <th>25</th>\n",
        "      <td>22317839</td>\n",
        "      <td>5</td>\n",
        "    </tr>\n",
        "    <tr>\n",
        "      <th>26</th>\n",
        "      <td>23695461</td>\n",
        "      <td>1</td>\n",
        "    </tr>\n",
        "    <tr>\n",
        "      <th>27</th>\n",
        "      <td>23695888</td>\n",
        "      <td>1</td>\n",
        "    </tr>\n",
        "    <tr>\n",
        "      <th>28</th>\n",
        "      <td>23953713</td>\n",
        "      <td>1</td>\n",
        "    </tr>\n",
        "    <tr>\n",
        "      <th>29</th>\n",
        "      <td>23956549</td>\n",
        "      <td>1</td>\n",
        "    </tr>\n",
        "    <tr>\n",
        "      <th>...</th>\n",
        "      <td>...</td>\n",
        "      <td>...</td>\n",
        "    </tr>\n",
        "    <tr>\n",
        "      <th>4764</th>\n",
        "      <td>249009717</td>\n",
        "      <td>2</td>\n",
        "    </tr>\n",
        "    <tr>\n",
        "      <th>4765</th>\n",
        "      <td>249009753</td>\n",
        "      <td>2</td>\n",
        "    </tr>\n",
        "    <tr>\n",
        "      <th>4766</th>\n",
        "      <td>249009789</td>\n",
        "      <td>2</td>\n",
        "    </tr>\n",
        "    <tr>\n",
        "      <th>4767</th>\n",
        "      <td>249009825</td>\n",
        "      <td>2</td>\n",
        "    </tr>\n",
        "    <tr>\n",
        "      <th>4768</th>\n",
        "      <td>249009861</td>\n",
        "      <td>2</td>\n",
        "    </tr>\n",
        "    <tr>\n",
        "      <th>4769</th>\n",
        "      <td>249009897</td>\n",
        "      <td>2</td>\n",
        "    </tr>\n",
        "    <tr>\n",
        "      <th>4770</th>\n",
        "      <td>249009933</td>\n",
        "      <td>2</td>\n",
        "    </tr>\n",
        "    <tr>\n",
        "      <th>4771</th>\n",
        "      <td>249009969</td>\n",
        "      <td>2</td>\n",
        "    </tr>\n",
        "    <tr>\n",
        "      <th>4772</th>\n",
        "      <td>249268583</td>\n",
        "      <td>2</td>\n",
        "    </tr>\n",
        "    <tr>\n",
        "      <th>4773</th>\n",
        "      <td>249268619</td>\n",
        "      <td>2</td>\n",
        "    </tr>\n",
        "    <tr>\n",
        "      <th>4774</th>\n",
        "      <td>249268655</td>\n",
        "      <td>2</td>\n",
        "    </tr>\n",
        "    <tr>\n",
        "      <th>4775</th>\n",
        "      <td>249268691</td>\n",
        "      <td>2</td>\n",
        "    </tr>\n",
        "    <tr>\n",
        "      <th>4776</th>\n",
        "      <td>249268727</td>\n",
        "      <td>2</td>\n",
        "    </tr>\n",
        "    <tr>\n",
        "      <th>4777</th>\n",
        "      <td>249268763</td>\n",
        "      <td>2</td>\n",
        "    </tr>\n",
        "    <tr>\n",
        "      <th>4778</th>\n",
        "      <td>249268799</td>\n",
        "      <td>2</td>\n",
        "    </tr>\n",
        "    <tr>\n",
        "      <th>4779</th>\n",
        "      <td>249268835</td>\n",
        "      <td>2</td>\n",
        "    </tr>\n",
        "    <tr>\n",
        "      <th>4780</th>\n",
        "      <td>249268871</td>\n",
        "      <td>2</td>\n",
        "    </tr>\n",
        "    <tr>\n",
        "      <th>4781</th>\n",
        "      <td>249268907</td>\n",
        "      <td>2</td>\n",
        "    </tr>\n",
        "    <tr>\n",
        "      <th>4782</th>\n",
        "      <td>250392511</td>\n",
        "      <td>2</td>\n",
        "    </tr>\n",
        "    <tr>\n",
        "      <th>4783</th>\n",
        "      <td>250392547</td>\n",
        "      <td>2</td>\n",
        "    </tr>\n",
        "    <tr>\n",
        "      <th>4784</th>\n",
        "      <td>250392583</td>\n",
        "      <td>2</td>\n",
        "    </tr>\n",
        "    <tr>\n",
        "      <th>4785</th>\n",
        "      <td>250392619</td>\n",
        "      <td>2</td>\n",
        "    </tr>\n",
        "    <tr>\n",
        "      <th>4786</th>\n",
        "      <td>250392655</td>\n",
        "      <td>2</td>\n",
        "    </tr>\n",
        "    <tr>\n",
        "      <th>4787</th>\n",
        "      <td>250392691</td>\n",
        "      <td>2</td>\n",
        "    </tr>\n",
        "    <tr>\n",
        "      <th>4788</th>\n",
        "      <td>250392727</td>\n",
        "      <td>2</td>\n",
        "    </tr>\n",
        "    <tr>\n",
        "      <th>4789</th>\n",
        "      <td>250392763</td>\n",
        "      <td>2</td>\n",
        "    </tr>\n",
        "    <tr>\n",
        "      <th>4790</th>\n",
        "      <td>250392799</td>\n",
        "      <td>2</td>\n",
        "    </tr>\n",
        "    <tr>\n",
        "      <th>4791</th>\n",
        "      <td>250392835</td>\n",
        "      <td>2</td>\n",
        "    </tr>\n",
        "    <tr>\n",
        "      <th>4792</th>\n",
        "      <td>250651856</td>\n",
        "      <td>2</td>\n",
        "    </tr>\n",
        "    <tr>\n",
        "      <th>4793</th>\n",
        "      <td>250651892</td>\n",
        "      <td>2</td>\n",
        "    </tr>\n",
        "  </tbody>\n",
        "</table>\n",
        "<p>4794 rows \u00d7 2 columns</p>\n",
        "</div>"
       ],
       "metadata": {},
       "output_type": "pyout",
       "prompt_number": 29,
       "text": [
        "           time  filters\n",
        "0         89299        6\n",
        "1        607963        6\n",
        "2        879799        1\n",
        "3       1212853        5\n",
        "4       1214435        5\n",
        "5       1644286        5\n",
        "6       1645914        5\n",
        "7       1739917        6\n",
        "8       1742349        6\n",
        "9       1817151        6\n",
        "10      1818007        6\n",
        "11      1820606        6\n",
        "12      1827937        6\n",
        "13      2086216        5\n",
        "14      2087218        5\n",
        "15      2087684        5\n",
        "16      2248873        5\n",
        "17      2250526        5\n",
        "18      2335275        5\n",
        "19      2336863        5\n",
        "20      2768159        5\n",
        "21      5014827        6\n",
        "22      5015906        6\n",
        "23      5016214        6\n",
        "24      5017292        6\n",
        "25     22317839        5\n",
        "26     23695461        1\n",
        "27     23695888        1\n",
        "28     23953713        1\n",
        "29     23956549        1\n",
        "...         ...      ...\n",
        "4764  249009717        2\n",
        "4765  249009753        2\n",
        "4766  249009789        2\n",
        "4767  249009825        2\n",
        "4768  249009861        2\n",
        "4769  249009897        2\n",
        "4770  249009933        2\n",
        "4771  249009969        2\n",
        "4772  249268583        2\n",
        "4773  249268619        2\n",
        "4774  249268655        2\n",
        "4775  249268691        2\n",
        "4776  249268727        2\n",
        "4777  249268763        2\n",
        "4778  249268799        2\n",
        "4779  249268835        2\n",
        "4780  249268871        2\n",
        "4781  249268907        2\n",
        "4782  250392511        2\n",
        "4783  250392547        2\n",
        "4784  250392583        2\n",
        "4785  250392619        2\n",
        "4786  250392655        2\n",
        "4787  250392691        2\n",
        "4788  250392727        2\n",
        "4789  250392763        2\n",
        "4790  250392799        2\n",
        "4791  250392835        2\n",
        "4792  250651856        2\n",
        "4793  250651892        2\n",
        "\n",
        "[4794 rows x 2 columns]"
       ]
      }
     ],
     "prompt_number": 29
    },
    {
     "cell_type": "code",
     "collapsed": false,
     "input": [
      "healpixels"
     ],
     "language": "python",
     "metadata": {},
     "outputs": [
      {
       "metadata": {},
       "output_type": "pyout",
       "prompt_number": 27,
       "text": [
        "['/Users/rbiswas/data/LSST/RutgersFullSkyPixels/fullskypix/OpSim2.168_DithDDF/fieldid_1309/144205.dat',\n",
        " '/Users/rbiswas/data/LSST/RutgersFullSkyPixels/fullskypix/OpSim2.168_DithDDF/fieldid_1309/144717.dat',\n",
        " '/Users/rbiswas/data/LSST/RutgersFullSkyPixels/fullskypix/OpSim2.168_DithDDF/fieldid_1309/144718.dat',\n",
        " '/Users/rbiswas/data/LSST/RutgersFullSkyPixels/fullskypix/OpSim2.168_DithDDF/fieldid_1309/145229.dat',\n",
        " '/Users/rbiswas/data/LSST/RutgersFullSkyPixels/fullskypix/OpSim2.168_DithDDF/fieldid_1309/145230.dat',\n",
        " '/Users/rbiswas/data/LSST/RutgersFullSkyPixels/fullskypix/OpSim2.168_DithDDF/fieldid_1309/145231.dat',\n",
        " '/Users/rbiswas/data/LSST/RutgersFullSkyPixels/fullskypix/OpSim2.168_DithDDF/fieldid_1309/145741.dat',\n",
        " '/Users/rbiswas/data/LSST/RutgersFullSkyPixels/fullskypix/OpSim2.168_DithDDF/fieldid_1309/145742.dat',\n",
        " '/Users/rbiswas/data/LSST/RutgersFullSkyPixels/fullskypix/OpSim2.168_DithDDF/fieldid_1309/145743.dat',\n",
        " '/Users/rbiswas/data/LSST/RutgersFullSkyPixels/fullskypix/OpSim2.168_DithDDF/fieldid_1309/145744.dat',\n",
        " '/Users/rbiswas/data/LSST/RutgersFullSkyPixels/fullskypix/OpSim2.168_DithDDF/fieldid_1309/146252.dat',\n",
        " '/Users/rbiswas/data/LSST/RutgersFullSkyPixels/fullskypix/OpSim2.168_DithDDF/fieldid_1309/146253.dat',\n",
        " '/Users/rbiswas/data/LSST/RutgersFullSkyPixels/fullskypix/OpSim2.168_DithDDF/fieldid_1309/146254.dat',\n",
        " '/Users/rbiswas/data/LSST/RutgersFullSkyPixels/fullskypix/OpSim2.168_DithDDF/fieldid_1309/146255.dat',\n",
        " '/Users/rbiswas/data/LSST/RutgersFullSkyPixels/fullskypix/OpSim2.168_DithDDF/fieldid_1309/146764.dat',\n",
        " '/Users/rbiswas/data/LSST/RutgersFullSkyPixels/fullskypix/OpSim2.168_DithDDF/fieldid_1309/146765.dat',\n",
        " '/Users/rbiswas/data/LSST/RutgersFullSkyPixels/fullskypix/OpSim2.168_DithDDF/fieldid_1309/146766.dat',\n",
        " '/Users/rbiswas/data/LSST/RutgersFullSkyPixels/fullskypix/OpSim2.168_DithDDF/fieldid_1309/146767.dat',\n",
        " '/Users/rbiswas/data/LSST/RutgersFullSkyPixels/fullskypix/OpSim2.168_DithDDF/fieldid_1309/147275.dat',\n",
        " '/Users/rbiswas/data/LSST/RutgersFullSkyPixels/fullskypix/OpSim2.168_DithDDF/fieldid_1309/147276.dat',\n",
        " '/Users/rbiswas/data/LSST/RutgersFullSkyPixels/fullskypix/OpSim2.168_DithDDF/fieldid_1309/147277.dat',\n",
        " '/Users/rbiswas/data/LSST/RutgersFullSkyPixels/fullskypix/OpSim2.168_DithDDF/fieldid_1309/147278.dat',\n",
        " '/Users/rbiswas/data/LSST/RutgersFullSkyPixels/fullskypix/OpSim2.168_DithDDF/fieldid_1309/147787.dat',\n",
        " '/Users/rbiswas/data/LSST/RutgersFullSkyPixels/fullskypix/OpSim2.168_DithDDF/fieldid_1309/147788.dat',\n",
        " '/Users/rbiswas/data/LSST/RutgersFullSkyPixels/fullskypix/OpSim2.168_DithDDF/fieldid_1309/147789.dat',\n",
        " '/Users/rbiswas/data/LSST/RutgersFullSkyPixels/fullskypix/OpSim2.168_DithDDF/fieldid_1309/147790.dat',\n",
        " '/Users/rbiswas/data/LSST/RutgersFullSkyPixels/fullskypix/OpSim2.168_DithDDF/fieldid_1309/148299.dat',\n",
        " '/Users/rbiswas/data/LSST/RutgersFullSkyPixels/fullskypix/OpSim2.168_DithDDF/fieldid_1309/148300.dat']"
       ]
      }
     ],
     "prompt_number": 27
    },
    {
     "cell_type": "code",
     "collapsed": false,
     "input": [
      "df = pd.read_csv(field, delimiter=r\"\\s+\")"
     ],
     "language": "python",
     "metadata": {},
     "outputs": []
    },
    {
     "cell_type": "code",
     "collapsed": false,
     "input": [
      "opsimData = '/Users/rbiswas/data/LSST/OpSimData/output_opsim2_168.dat'"
     ],
     "language": "python",
     "metadata": {},
     "outputs": []
    },
    {
     "cell_type": "code",
     "collapsed": false,
     "input": [
      "import sqlalchemy"
     ],
     "language": "python",
     "metadata": {},
     "outputs": [],
     "prompt_number": 30
    },
    {
     "cell_type": "code",
     "collapsed": false,
     "input": [
      "engine = sqlalchemy.create_engine('sqlite:////Users/rbiswas/data/LSST/OpSimData/enigma_1189_sqlite.db')"
     ],
     "language": "python",
     "metadata": {},
     "outputs": [],
     "prompt_number": 32
    },
    {
     "cell_type": "code",
     "collapsed": false,
     "input": [
      "summary =  pd.read_sql_table('Summary', engine)"
     ],
     "language": "python",
     "metadata": {},
     "outputs": [],
     "prompt_number": 33
    },
    {
     "cell_type": "code",
     "collapsed": false,
     "input": [
      "proposal =  pd.read_sql_table('Proposal', engine)\n",
      "seeing = pd.read_sql_table('Seeing', engine)\n",
      "Field    = pd.read_sql_table('Field', engine)"
     ],
     "language": "python",
     "metadata": {},
     "outputs": [],
     "prompt_number": 40
    },
    {
     "cell_type": "code",
     "collapsed": false,
     "input": [
      "!pwd"
     ],
     "language": "python",
     "metadata": {},
     "outputs": [
      {
       "output_type": "stream",
       "stream": "stdout",
       "text": [
        "/Users/rbiswas/doc/projects/LSST/CadenceRutgers\r\n"
       ]
      }
     ],
     "prompt_number": 34
    },
    {
     "cell_type": "code",
     "collapsed": false,
     "input": [
      "store = pd.HDFStore('storage.h5')"
     ],
     "language": "python",
     "metadata": {},
     "outputs": [],
     "prompt_number": 35
    },
    {
     "cell_type": "code",
     "collapsed": false,
     "input": [
      "proposal.to_hdf('storage.h5', 'proposal')\n",
      "seeing.to_hdf('storage.h5', 'seeing')\n",
      "Field.to_hdf('storage.h5', 'field')"
     ],
     "language": "python",
     "metadata": {},
     "outputs": [
      {
       "output_type": "stream",
       "stream": "stderr",
       "text": [
        "/usr/local/manual/anaconda/lib/python2.7/site-packages/pandas/io/pytables.py:2558: PerformanceWarning: \n",
        "your performance may suffer as PyTables will pickle object types that it cannot\n",
        "map directly to c-types [inferred_type->unicode,key->block1_values] [items->[u'propConf', u'propName', u'objectHost']]\n",
        "\n",
        "  warnings.warn(ws, PerformanceWarning)\n"
       ]
      }
     ],
     "prompt_number": 41
    },
    {
     "cell_type": "code",
     "collapsed": false,
     "input": [
      "summary.to_hdf('storage.h5', 'summary')"
     ],
     "language": "python",
     "metadata": {},
     "outputs": [
      {
       "output_type": "stream",
       "stream": "stderr",
       "text": [
        "/usr/local/manual/anaconda/lib/python2.7/site-packages/pandas/io/pytables.py:2558: PerformanceWarning: \n",
        "your performance may suffer as PyTables will pickle object types that it cannot\n",
        "map directly to c-types [inferred_type->unicode,key->axis0] [items->None]\n",
        "\n",
        "  warnings.warn(ws, PerformanceWarning)\n",
        "/usr/local/manual/anaconda/lib/python2.7/site-packages/pandas/io/pytables.py:2558: PerformanceWarning: \n",
        "your performance may suffer as PyTables will pickle object types that it cannot\n",
        "map directly to c-types [inferred_type->unicode,key->block0_items] [items->None]\n",
        "\n",
        "  warnings.warn(ws, PerformanceWarning)\n"
       ]
      },
      {
       "output_type": "stream",
       "stream": "stderr",
       "text": [
        "/usr/local/manual/anaconda/lib/python2.7/site-packages/pandas/io/pytables.py:2558: PerformanceWarning: \n",
        "your performance may suffer as PyTables will pickle object types that it cannot\n",
        "map directly to c-types [inferred_type->unicode,key->block1_items] [items->None]\n",
        "\n",
        "  warnings.warn(ws, PerformanceWarning)\n",
        "/usr/local/manual/anaconda/lib/python2.7/site-packages/pandas/io/pytables.py:2558: PerformanceWarning: \n",
        "your performance may suffer as PyTables will pickle object types that it cannot\n",
        "map directly to c-types [inferred_type->unicode,key->block2_values] [items->[u'filter']]\n",
        "\n",
        "  warnings.warn(ws, PerformanceWarning)\n"
       ]
      },
      {
       "output_type": "stream",
       "stream": "stderr",
       "text": [
        "/usr/local/manual/anaconda/lib/python2.7/site-packages/pandas/io/pytables.py:2558: PerformanceWarning: \n",
        "your performance may suffer as PyTables will pickle object types that it cannot\n",
        "map directly to c-types [inferred_type->unicode,key->block2_items] [items->None]\n",
        "\n",
        "  warnings.warn(ws, PerformanceWarning)\n"
       ]
      }
     ],
     "prompt_number": 36
    },
    {
     "cell_type": "code",
     "collapsed": false,
     "input": [
      "!du -h storage.h5"
     ],
     "language": "python",
     "metadata": {},
     "outputs": [
      {
       "output_type": "stream",
       "stream": "stdout",
       "text": [
        "885M\tstorage.h5\r\n"
       ]
      }
     ],
     "prompt_number": 42
    },
    {
     "cell_type": "code",
     "collapsed": false,
     "input": [
      "print store"
     ],
     "language": "python",
     "metadata": {},
     "outputs": [
      {
       "output_type": "stream",
       "stream": "stdout",
       "text": [
        "<class 'pandas.io.pytables.HDFStore'>\n",
        "File path: storage.h5\n",
        "/field               frame        (shape->[5292,2])   \n",
        "/proposal            frame        (shape->[5,2])      \n",
        "/seeing              frame        (shape->[210384,2]) \n",
        "/summary             frame        (shape->[2473105,3])\n"
       ]
      }
     ],
     "prompt_number": 43
    },
    {
     "cell_type": "code",
     "collapsed": false,
     "input": [
      "from sqlalchemy import inspect\n",
      "inspector = inspect(engine)\n",
      "\n",
      "for table_name in inspector.get_table_names():\n",
      "    print table_name\n",
      "   # for column in inspector.get_columns(table_name):\n",
      "   #    print(\"Column: %s\" % column['name'])"
     ],
     "language": "python",
     "metadata": {},
     "outputs": [
      {
       "output_type": "stream",
       "stream": "stdout",
       "text": [
        "Cloud\n",
        "Config\n",
        "Config_File\n",
        "Field\n",
        "Log\n",
        "MissedHistory\n",
        "ObsHistory\n",
        "ObsHistory_Proposal\n",
        "Proposal\n",
        "Proposal_Field\n",
        "Seeing\n",
        "SeqHistory\n",
        "SeqHistory_MissedHistory\n",
        "SeqHistory_ObsHistory\n",
        "Session\n",
        "SlewActivities\n",
        "SlewHistory\n",
        "SlewMaxSpeeds\n",
        "SlewState\n",
        "Summary\n",
        "TimeHistory\n"
       ]
      }
     ],
     "prompt_number": 45
    },
    {
     "cell_type": "code",
     "collapsed": false,
     "input": [
      "summary.to_sql('summaryTable.sql')\n"
     ],
     "language": "python",
     "metadata": {},
     "outputs": [
      {
       "ename": "TypeError",
       "evalue": "to_sql() takes at least 3 arguments (2 given)",
       "output_type": "pyerr",
       "traceback": [
        "\u001b[0;31m---------------------------------------------------------------------------\u001b[0m\n\u001b[0;31mTypeError\u001b[0m                                 Traceback (most recent call last)",
        "\u001b[0;32m<ipython-input-38-694436f3d11f>\u001b[0m in \u001b[0;36m<module>\u001b[0;34m()\u001b[0m\n\u001b[0;32m----> 1\u001b[0;31m \u001b[0msummary\u001b[0m\u001b[0;34m.\u001b[0m\u001b[0mto_sql\u001b[0m\u001b[0;34m(\u001b[0m\u001b[0;34m'summaryTable.sql'\u001b[0m\u001b[0;34m)\u001b[0m\u001b[0;34m\u001b[0m\u001b[0m\n\u001b[0m",
        "\u001b[0;31mTypeError\u001b[0m: to_sql() takes at least 3 arguments (2 given)"
       ]
      }
     ],
     "prompt_number": 38
    },
    {
     "cell_type": "code",
     "collapsed": false,
     "input": [
      "help(summary.to_sql)"
     ],
     "language": "python",
     "metadata": {},
     "outputs": [
      {
       "output_type": "stream",
       "stream": "stdout",
       "text": [
        "Help on method to_sql in module pandas.core.generic:\n",
        "\n",
        "to_sql(self, name, con, flavor='sqlite', schema=None, if_exists='fail', index=True, index_label=None, chunksize=None, dtype=None) method of pandas.core.frame.DataFrame instance\n",
        "    Write records stored in a DataFrame to a SQL database.\n",
        "    \n",
        "    Parameters\n",
        "    ----------\n",
        "    name : string\n",
        "        Name of SQL table\n",
        "    con : SQLAlchemy engine or DBAPI2 connection (legacy mode)\n",
        "        Using SQLAlchemy makes it possible to use any DB supported by that\n",
        "        library.\n",
        "        If a DBAPI2 object, only sqlite3 is supported.\n",
        "    flavor : {'sqlite', 'mysql'}, default 'sqlite'\n",
        "        The flavor of SQL to use. Ignored when using SQLAlchemy engine.\n",
        "        'mysql' is deprecated and will be removed in future versions, but it\n",
        "        will be further supported through SQLAlchemy engines.\n",
        "    schema : string, default None\n",
        "        Specify the schema (if database flavor supports this). If None, use\n",
        "        default schema.\n",
        "    if_exists : {'fail', 'replace', 'append'}, default 'fail'\n",
        "        - fail: If table exists, do nothing.\n",
        "        - replace: If table exists, drop it, recreate it, and insert data.\n",
        "        - append: If table exists, insert data. Create if does not exist.\n",
        "    index : boolean, default True\n",
        "        Write DataFrame index as a column.\n",
        "    index_label : string or sequence, default None\n",
        "        Column label for index column(s). If None is given (default) and\n",
        "        `index` is True, then the index names are used.\n",
        "        A sequence should be given if the DataFrame uses MultiIndex.\n",
        "    chunksize : int, default None\n",
        "        If not None, then rows will be written in batches of this size at a\n",
        "        time.  If None, all rows will be written at once.\n",
        "    dtype : dict of column name to SQL type, default None\n",
        "        Optional specifying the datatype for columns. The SQL type should\n",
        "        be a SQLAlchemy type, or a string for sqlite3 fallback connection.\n",
        "\n"
       ]
      }
     ],
     "prompt_number": 39
    },
    {
     "cell_type": "code",
     "collapsed": false,
     "input": [],
     "language": "python",
     "metadata": {},
     "outputs": []
    }
   ],
   "metadata": {}
  }
 ]
}